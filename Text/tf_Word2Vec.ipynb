{
 "metadata": {
  "language_info": {
   "codemirror_mode": {
    "name": "ipython",
    "version": 3
   },
   "file_extension": ".py",
   "mimetype": "text/x-python",
   "name": "python",
   "nbconvert_exporter": "python",
   "pygments_lexer": "ipython3",
   "version": "3.8.5"
  },
  "orig_nbformat": 2,
  "kernelspec": {
   "name": "python385jvsc74a57bd0916dbcbb3f70747c44a77c7bcd40155683ae19c65e1c03b4aa3499c5328201f1",
   "display_name": "Python 3.8.5 64-bit"
  },
  "metadata": {
   "interpreter": {
    "hash": "916dbcbb3f70747c44a77c7bcd40155683ae19c65e1c03b4aa3499c5328201f1"
   }
  }
 },
 "nbformat": 4,
 "nbformat_minor": 2,
 "cells": [
  {
   "cell_type": "code",
   "execution_count": 1,
   "metadata": {},
   "outputs": [],
   "source": [
    "import io\n",
    "import re\n",
    "import string\n",
    "import tensorflow as tf\n",
    "import tqdm\n",
    "\n",
    "from tensorflow.keras import Model\n",
    "from tensorflow.keras.layers import Dot, Embedding, Flatten\n",
    "from tensorflow.keras.layers.experimental.preprocessing import TextVectorization"
   ]
  },
  {
   "cell_type": "code",
   "execution_count": 2,
   "metadata": {},
   "outputs": [],
   "source": [
    "%load_ext tensorboard"
   ]
  },
  {
   "cell_type": "code",
   "execution_count": 3,
   "metadata": {},
   "outputs": [],
   "source": [
    "SEED = 42\n",
    "AUTOTUNE = tf.data.AUTOTUNE"
   ]
  },
  {
   "cell_type": "code",
   "execution_count": 4,
   "metadata": {},
   "outputs": [
    {
     "output_type": "stream",
     "name": "stdout",
     "text": [
      "8\n"
     ]
    }
   ],
   "source": [
    "sentence = \"The wide road shimmered in the hot sun\"\n",
    "tokens = list(sentence.lower().split())\n",
    "print(len(tokens))"
   ]
  },
  {
   "cell_type": "code",
   "execution_count": 5,
   "metadata": {},
   "outputs": [
    {
     "output_type": "stream",
     "name": "stdout",
     "text": [
      "{'<pad>': 0, 'the': 1, 'wide': 2, 'road': 3, 'shimmered': 4, 'in': 5, 'hot': 6, 'sun': 7}\n"
     ]
    }
   ],
   "source": [
    "vocab, index = {}, 1\n",
    "vocab['<pad>'] = 0\n",
    "for token in tokens:\n",
    "    if token not in vocab:\n",
    "        vocab[token] = index\n",
    "        index += 1\n",
    "vocab_size = len(vocab)\n",
    "print(vocab)"
   ]
  },
  {
   "cell_type": "code",
   "execution_count": 6,
   "metadata": {},
   "outputs": [
    {
     "output_type": "stream",
     "name": "stdout",
     "text": [
      "{0: '<pad>', 1: 'the', 2: 'wide', 3: 'road', 4: 'shimmered', 5: 'in', 6: 'hot', 7: 'sun'}\n"
     ]
    }
   ],
   "source": [
    "inverse_vocab = {index: token for token, index in vocab.items()}\n",
    "print(inverse_vocab)"
   ]
  },
  {
   "cell_type": "code",
   "execution_count": 7,
   "metadata": {},
   "outputs": [
    {
     "output_type": "stream",
     "name": "stdout",
     "text": [
      "[1, 2, 3, 4, 5, 1, 6, 7]\n"
     ]
    }
   ],
   "source": [
    "example_sequence = [vocab[word] for word in tokens]\n",
    "print(example_sequence)"
   ]
  },
  {
   "cell_type": "code",
   "execution_count": 8,
   "metadata": {},
   "outputs": [
    {
     "output_type": "stream",
     "name": "stdout",
     "text": [
      "26\n"
     ]
    }
   ],
   "source": [
    "window_size = 2\n",
    "positive_skip_grams, _ = tf.keras.preprocessing.sequence.skipgrams(\n",
    "    example_sequence,\n",
    "    vocabulary_size=vocab_size,\n",
    "    window_size=window_size,\n",
    "    negative_samples=0)\n",
    "\n",
    "print(len(positive_skip_grams))"
   ]
  },
  {
   "cell_type": "code",
   "execution_count": 9,
   "metadata": {},
   "outputs": [
    {
     "output_type": "stream",
     "name": "stdout",
     "text": [
      "(4, 1): (shimmered, the)\n(5, 1): (in, the)\n(1, 6): (the, hot)\n(5, 6): (in, hot)\n(6, 5): (hot, in)\n"
     ]
    }
   ],
   "source": [
    "for target, context in positive_skip_grams[:5]:\n",
    "    print(f\"({target}, {context}): ({inverse_vocab[target]}, {inverse_vocab[context]})\")"
   ]
  },
  {
   "cell_type": "code",
   "execution_count": 10,
   "metadata": {},
   "outputs": [
    {
     "output_type": "stream",
     "name": "stdout",
     "text": [
      "(4, 1)::(shimmered, the)\ntf.Tensor([[1]], shape=(1, 1), dtype=int64)\ntf.Tensor([2 1 4 3], shape=(4,), dtype=int64)\n['wide', 'the', 'shimmered', 'road']\n"
     ]
    }
   ],
   "source": [
    "target_word, context_word = positive_skip_grams[0]\n",
    "\n",
    "print(f\"({target_word}, {context_word})::({inverse_vocab[target_word]}, {inverse_vocab[context_word]})\")\n",
    "\n",
    "num_ns = 4\n",
    "\n",
    "context_class = tf.reshape(tf.constant(context_word, dtype=\"int64\"), (1,1))\n",
    "\n",
    "print(context_class)\n",
    "\n",
    "negative_sampling_candidates, _, _ = tf.random.log_uniform_candidate_sampler(\n",
    "    true_classes=context_class,\n",
    "    num_true=1,\n",
    "    num_sampled=num_ns,\n",
    "    unique=True,\n",
    "    range_max=vocab_size,\n",
    "    seed=SEED,\n",
    "    name='negative_sampling')\n",
    "\n",
    "print(negative_sampling_candidates)\n",
    "print([inverse_vocab[index.numpy()] for index in negative_sampling_candidates])\n"
   ]
  },
  {
   "cell_type": "code",
   "execution_count": 11,
   "metadata": {},
   "outputs": [
    {
     "output_type": "stream",
     "name": "stdout",
     "text": [
      "tf.Tensor(\n[[1]\n [2]\n [1]\n [4]\n [3]], shape=(5, 1), dtype=int64)\ntf.Tensor([1 0 0 0 0], shape=(5,), dtype=int64)\ntf.Tensor(4, shape=(), dtype=int32) tf.Tensor([1 2 1 4 3], shape=(5,), dtype=int64) tf.Tensor([1 0 0 0 0], shape=(5,), dtype=int64)\n"
     ]
    }
   ],
   "source": [
    "negative_sampling_candidates = tf.expand_dims(negative_sampling_candidates, 1)\n",
    "\n",
    "context = tf.concat([context_class, negative_sampling_candidates], 0)\n",
    "\n",
    "print(context)\n",
    "\n",
    "label = tf.constant([1] + [0]*num_ns, dtype=\"int64\")\n",
    "\n",
    "print(label)\n",
    "\n",
    "target = tf.squeeze(target_word)\n",
    "context = tf.squeeze(context)\n",
    "label = tf.squeeze(label)\n",
    "\n",
    "print(target, context, label)\n"
   ]
  },
  {
   "cell_type": "code",
   "execution_count": 12,
   "metadata": {},
   "outputs": [
    {
     "output_type": "stream",
     "name": "stdout",
     "text": [
      "target_index    : 4\ntarget_word     : shimmered\ncontext_indices : [1 2 1 4 3]\ncontext_words   : ['the', 'wide', 'the', 'shimmered', 'road']\nlabel           : [1 0 0 0 0]\n"
     ]
    }
   ],
   "source": [
    "print(f\"target_index    : {target}\")\n",
    "print(f\"target_word     : {inverse_vocab[target_word]}\")\n",
    "print(f\"context_indices : {context}\")\n",
    "print(f\"context_words   : {[inverse_vocab[c.numpy()] for c in context]}\")\n",
    "print(f\"label           : {label}\")"
   ]
  },
  {
   "cell_type": "code",
   "execution_count": 13,
   "metadata": {},
   "outputs": [
    {
     "output_type": "stream",
     "name": "stdout",
     "text": [
      "[0.00315225 0.00315225 0.00547597 0.00741556 0.00912817 0.01068435\n 0.01212381 0.01347162 0.01474487 0.0159558 ]\n"
     ]
    }
   ],
   "source": [
    "sampling_table = tf.keras.preprocessing.sequence.make_sampling_table(size=10)\n",
    "print(sampling_table)"
   ]
  },
  {
   "cell_type": "code",
   "execution_count": 14,
   "metadata": {},
   "outputs": [],
   "source": [
    "def generate_training_data(sequences, window_size, num_ns, vocab_size, seed):\n",
    "    targets, contexts, labels = [], [], []\n",
    "    sampling_table = tf.keras.preprocessing.sequence.make_sampling_table(vocab_size)\n",
    "\n",
    "    for sequence in tqdm.tqdm(sequences):\n",
    "\n",
    "        positive_skip_grams, _ = tf.keras.preprocessing.sequence.skipgrams(\n",
    "            sequence,\n",
    "            vocabulary_size=vocab_size,\n",
    "            sampling_table=sampling_table,\n",
    "            window_size=window_size,\n",
    "            negative_samples=0)\n",
    "\n",
    "        for target_word, context_word in positive_skip_grams:\n",
    "            context_class = tf.expand_dims(\n",
    "                tf.constant([context_word], dtype=\"int64\"), 1)\n",
    "            negative_sampling_candidates, _, _ = tf.random.log_uniform_candidate_sampler(\n",
    "                true_classes=context_class,\n",
    "                num_true=1,\n",
    "                num_sampled=num_ns,\n",
    "                unique=True,\n",
    "                range_max=vocab_size,\n",
    "                seed=SEED,\n",
    "                name='negative_sampling')\n",
    "            \n",
    "            negative_sampling_candidates = tf.expand_dims(negative_sampling_candidates, 1)\n",
    "\n",
    "            context = tf.concat([context_class, negative_sampling_candidates], 0)\n",
    "            label = tf.constant([1] + [0]*num_ns, dtype='int64')\n",
    "\n",
    "            targets.append(target_word)\n",
    "            contexts.append(context)\n",
    "            labels.append(label)\n",
    "\n",
    "    return targets, contexts, labels"
   ]
  },
  {
   "cell_type": "code",
   "execution_count": 15,
   "metadata": {},
   "outputs": [],
   "source": [
    "path_to_file = tf.keras.utils.get_file('shakespeare.txt', 'https://storage.googleapis.com/download.tensorflow.org/data/shakespeare.txt')"
   ]
  },
  {
   "cell_type": "code",
   "execution_count": 16,
   "metadata": {},
   "outputs": [
    {
     "output_type": "stream",
     "name": "stdout",
     "text": [
      "First Citizen:\nBefore we proceed any further, hear me speak.\n\nAll:\nSpeak, speak.\n\nFirst Citizen:\nYou are all resolved rather to die than to famish?\n\nAll:\nResolved. resolved.\n\nFirst Citizen:\nFirst, you know Caius Marcius is chief enemy to the people.\n\nAll:\nWe know't, we know't.\n\nFirst Citizen:\nLet us kill him, and we'll have corn at our own price.\n"
     ]
    }
   ],
   "source": [
    "with open(path_to_file) as f:\n",
    "    lines = f.read().splitlines()\n",
    "for line in lines[:20]:\n",
    "    print(line)"
   ]
  },
  {
   "cell_type": "code",
   "execution_count": 17,
   "metadata": {},
   "outputs": [],
   "source": [
    "text_ds = tf.data.TextLineDataset(path_to_file).filter(lambda x: tf.cast(tf.strings.length(x), bool))"
   ]
  },
  {
   "cell_type": "code",
   "execution_count": 18,
   "metadata": {},
   "outputs": [],
   "source": [
    "def custom_standardization(input_data):\n",
    "    lowercase = tf.strings.lower(input_data)\n",
    "    return tf.strings.regex_replace(lowercase, '[%s]' % re.escape(string.punctuation), '')\n",
    "\n"
   ]
  },
  {
   "cell_type": "code",
   "execution_count": 19,
   "metadata": {},
   "outputs": [],
   "source": [
    "vocab_size = 4096\n",
    "sequence_length = 10\n",
    "\n",
    "vectorize_layer = TextVectorization(\n",
    "    standardize=custom_standardization,\n",
    "    max_tokens=vocab_size,\n",
    "    output_mode='int',\n",
    "    output_sequence_length=sequence_length)"
   ]
  },
  {
   "cell_type": "code",
   "execution_count": 20,
   "metadata": {},
   "outputs": [],
   "source": [
    "vectorize_layer.adapt(text_ds.batch(1024))"
   ]
  },
  {
   "cell_type": "code",
   "execution_count": 21,
   "metadata": {},
   "outputs": [
    {
     "output_type": "stream",
     "name": "stdout",
     "text": [
      "['', '[UNK]', 'the', 'and', 'to', 'i', 'of', 'you', 'my', 'a', 'that', 'in', 'is', 'not', 'for', 'with', 'me', 'it', 'be', 'your']\n"
     ]
    }
   ],
   "source": [
    "inverse_vocab = vectorize_layer.get_vocabulary()\n",
    "print(inverse_vocab[:20])"
   ]
  },
  {
   "cell_type": "code",
   "execution_count": 22,
   "metadata": {},
   "outputs": [],
   "source": [
    "text_vector_ds = text_ds.batch(1024).prefetch(AUTOTUNE).map(vectorize_layer).unbatch()"
   ]
  },
  {
   "cell_type": "code",
   "execution_count": 23,
   "metadata": {},
   "outputs": [
    {
     "output_type": "stream",
     "name": "stdout",
     "text": [
      "<_UnbatchDataset shapes: (10,), types: tf.int64>\n"
     ]
    }
   ],
   "source": [
    "print(text_vector_ds)"
   ]
  },
  {
   "cell_type": "code",
   "execution_count": 24,
   "metadata": {},
   "outputs": [
    {
     "output_type": "stream",
     "name": "stdout",
     "text": [
      "32777\n"
     ]
    }
   ],
   "source": [
    "sequences = list(text_vector_ds.as_numpy_iterator())\n",
    "print(len(sequences))"
   ]
  },
  {
   "cell_type": "code",
   "execution_count": 25,
   "metadata": {},
   "outputs": [
    {
     "output_type": "stream",
     "name": "stdout",
     "text": [
      "[ 89 270   0   0   0   0   0   0   0   0] => ['first', 'citizen', '', '', '', '', '', '', '', '']\n[138  36 982 144 673 125  16 106   0   0] => ['before', 'we', 'proceed', 'any', 'further', 'hear', 'me', 'speak', '', '']\n[34  0  0  0  0  0  0  0  0  0] => ['all', '', '', '', '', '', '', '', '', '']\n[106 106   0   0   0   0   0   0   0   0] => ['speak', 'speak', '', '', '', '', '', '', '', '']\n[ 89 270   0   0   0   0   0   0   0   0] => ['first', 'citizen', '', '', '', '', '', '', '', '']\n"
     ]
    }
   ],
   "source": [
    "for seq in sequences[:5]:\n",
    "    print(f\"{seq} => {[inverse_vocab[i] for i in seq]}\")"
   ]
  },
  {
   "cell_type": "code",
   "execution_count": 79,
   "metadata": {},
   "outputs": [
    {
     "output_type": "stream",
     "name": "stderr",
     "text": [
      "100%|██████████| 32777/32777 [00:06<00:00, 4744.65it/s]\n",
      "88632 88632 88632\n"
     ]
    }
   ],
   "source": [
    "targets, contexts, labels = generate_training_data(\n",
    "    sequences=sequences,\n",
    "    window_size=3,\n",
    "    num_ns=7,\n",
    "    vocab_size=vocab_size,\n",
    "    seed=SEED)\n",
    "print(len(targets), len(contexts), len(labels))"
   ]
  },
  {
   "cell_type": "code",
   "execution_count": 80,
   "metadata": {},
   "outputs": [
    {
     "output_type": "stream",
     "name": "stdout",
     "text": [
      "<BatchDataset shapes: (((1024,), (1024, 8, 1)), (1024, 8)), types: ((tf.int32, tf.int64), tf.int64)>\n"
     ]
    }
   ],
   "source": [
    "BATCH_SIZE = 1024\n",
    "BUFFER_SIZE = 10000\n",
    "\n",
    "dataset = tf.data.Dataset.from_tensor_slices(((targets, contexts), labels))\n",
    "\n",
    "dataset = dataset.shuffle(BUFFER_SIZE).batch(BATCH_SIZE, drop_remainder=True)\n",
    "print(dataset)"
   ]
  },
  {
   "cell_type": "code",
   "execution_count": 81,
   "metadata": {},
   "outputs": [
    {
     "output_type": "stream",
     "name": "stdout",
     "text": [
      "<PrefetchDataset shapes: (((1024,), (1024, 8, 1)), (1024, 8)), types: ((tf.int32, tf.int64), tf.int64)>\n"
     ]
    }
   ],
   "source": [
    "dataset = dataset.cache().prefetch(buffer_size=AUTOTUNE)\n",
    "print(dataset)"
   ]
  },
  {
   "cell_type": "code",
   "execution_count": 82,
   "metadata": {},
   "outputs": [],
   "source": [
    "class Word2Vec(Model):\n",
    "    def __init__(self, vocab_size, embedding_dim):\n",
    "        super(Word2Vec, self).__init__()\n",
    "        self.target_embedding = Embedding(vocab_size, embedding_dim, input_length=1, name='w2v_embedding')\n",
    "        self.context_embedding = Embedding(vocab_size, embedding_dim, input_length=num_ns+1)\n",
    "        self.dots = Dot(axes=(3,2))\n",
    "        self.flatten = Flatten()\n",
    "\n",
    "    def call(self, pair):\n",
    "        target, context = pair\n",
    "        word_emb = self.target_embedding(target)\n",
    "        context_emb = self.context_embedding(context)\n",
    "        dots = self.dots([context_emb, word_emb])\n",
    "        return self.flatten(dots)"
   ]
  },
  {
   "cell_type": "code",
   "execution_count": 84,
   "metadata": {},
   "outputs": [],
   "source": [
    "embedding_dim = 128\n",
    "word2vec = Word2Vec(vocab_size, embedding_dim)\n",
    "word2vec.compile(optimizer='adam', loss = tf.keras.losses.CategoricalCrossentropy(from_logits=True), metrics=['accuracy'])"
   ]
  },
  {
   "cell_type": "code",
   "execution_count": 85,
   "metadata": {},
   "outputs": [],
   "source": [
    "tensorboard_callback = tf.keras.callbacks.TensorBoard(log_dir=\"logs\")\n"
   ]
  },
  {
   "cell_type": "code",
   "execution_count": 86,
   "metadata": {},
   "outputs": [
    {
     "output_type": "stream",
     "name": "stdout",
     "text": [
      "Epoch 1/100\n",
      "86/86 [==============================] - 1s 11ms/step - loss: 2.0787 - accuracy: 0.1425\n",
      "Epoch 2/100\n",
      "86/86 [==============================] - 1s 9ms/step - loss: 2.0552 - accuracy: 0.3954\n",
      "Epoch 3/100\n",
      "86/86 [==============================] - 1s 10ms/step - loss: 1.9892 - accuracy: 0.3377\n",
      "Epoch 4/100\n",
      "86/86 [==============================] - 1s 10ms/step - loss: 1.8944 - accuracy: 0.3491\n",
      "Epoch 5/100\n",
      "86/86 [==============================] - 1s 11ms/step - loss: 1.7960 - accuracy: 0.3875\n",
      "Epoch 6/100\n",
      "86/86 [==============================] - 1s 10ms/step - loss: 1.7004 - accuracy: 0.4278\n",
      "Epoch 7/100\n",
      "86/86 [==============================] - 1s 8ms/step - loss: 1.6080 - accuracy: 0.4689\n",
      "Epoch 8/100\n",
      "86/86 [==============================] - 1s 9ms/step - loss: 1.5191 - accuracy: 0.5107\n",
      "Epoch 9/100\n",
      "86/86 [==============================] - 1s 8ms/step - loss: 1.4340 - accuracy: 0.5479\n",
      "Epoch 10/100\n",
      "86/86 [==============================] - 1s 8ms/step - loss: 1.3531 - accuracy: 0.5835\n",
      "Epoch 11/100\n",
      "86/86 [==============================] - 1s 7ms/step - loss: 1.2767 - accuracy: 0.6136\n",
      "Epoch 12/100\n",
      "86/86 [==============================] - 1s 7ms/step - loss: 1.2048 - accuracy: 0.6404\n",
      "Epoch 13/100\n",
      "86/86 [==============================] - 1s 7ms/step - loss: 1.1376 - accuracy: 0.6653\n",
      "Epoch 14/100\n",
      "86/86 [==============================] - 1s 7ms/step - loss: 1.0751 - accuracy: 0.6880\n",
      "Epoch 15/100\n",
      "86/86 [==============================] - 1s 8ms/step - loss: 1.0171 - accuracy: 0.7066\n",
      "Epoch 16/100\n",
      "86/86 [==============================] - 1s 8ms/step - loss: 0.9634 - accuracy: 0.7249\n",
      "Epoch 17/100\n",
      "86/86 [==============================] - 1s 8ms/step - loss: 0.9140 - accuracy: 0.7415\n",
      "Epoch 18/100\n",
      "86/86 [==============================] - 1s 7ms/step - loss: 0.8684 - accuracy: 0.7581\n",
      "Epoch 19/100\n",
      "86/86 [==============================] - 1s 7ms/step - loss: 0.8266 - accuracy: 0.7720\n",
      "Epoch 20/100\n",
      "86/86 [==============================] - 1s 7ms/step - loss: 0.7882 - accuracy: 0.7843\n",
      "Epoch 21/100\n",
      "86/86 [==============================] - 1s 7ms/step - loss: 0.7529 - accuracy: 0.7952\n",
      "Epoch 22/100\n",
      "86/86 [==============================] - 1s 8ms/step - loss: 0.7205 - accuracy: 0.8051\n",
      "Epoch 23/100\n",
      "86/86 [==============================] - 1s 7ms/step - loss: 0.6907 - accuracy: 0.8142\n",
      "Epoch 24/100\n",
      "86/86 [==============================] - 1s 7ms/step - loss: 0.6633 - accuracy: 0.8220\n",
      "Epoch 25/100\n",
      "86/86 [==============================] - 1s 7ms/step - loss: 0.6381 - accuracy: 0.8290\n",
      "Epoch 26/100\n",
      "86/86 [==============================] - 1s 7ms/step - loss: 0.6149 - accuracy: 0.8360\n",
      "Epoch 27/100\n",
      "86/86 [==============================] - 1s 8ms/step - loss: 0.5934 - accuracy: 0.8428\n",
      "Epoch 28/100\n",
      "86/86 [==============================] - 1s 7ms/step - loss: 0.5736 - accuracy: 0.8478\n",
      "Epoch 29/100\n",
      "86/86 [==============================] - 1s 7ms/step - loss: 0.5552 - accuracy: 0.8516\n",
      "Epoch 30/100\n",
      "86/86 [==============================] - 1s 8ms/step - loss: 0.5382 - accuracy: 0.8557\n",
      "Epoch 31/100\n",
      "86/86 [==============================] - 1s 7ms/step - loss: 0.5224 - accuracy: 0.8594\n",
      "Epoch 32/100\n",
      "86/86 [==============================] - 1s 7ms/step - loss: 0.5078 - accuracy: 0.8632\n",
      "Epoch 33/100\n",
      "86/86 [==============================] - 1s 7ms/step - loss: 0.4941 - accuracy: 0.8668\n",
      "Epoch 34/100\n",
      "86/86 [==============================] - 1s 7ms/step - loss: 0.4814 - accuracy: 0.8699\n",
      "Epoch 35/100\n",
      "86/86 [==============================] - 1s 7ms/step - loss: 0.4696 - accuracy: 0.8726\n",
      "Epoch 36/100\n",
      "86/86 [==============================] - 1s 7ms/step - loss: 0.4585 - accuracy: 0.8745\n",
      "Epoch 37/100\n",
      "86/86 [==============================] - 1s 7ms/step - loss: 0.4482 - accuracy: 0.8765\n",
      "Epoch 38/100\n",
      "86/86 [==============================] - 1s 8ms/step - loss: 0.4385 - accuracy: 0.8780\n",
      "Epoch 39/100\n",
      "86/86 [==============================] - 1s 8ms/step - loss: 0.4294 - accuracy: 0.8797\n",
      "Epoch 40/100\n",
      "86/86 [==============================] - 1s 8ms/step - loss: 0.4209 - accuracy: 0.8810\n",
      "Epoch 41/100\n",
      "86/86 [==============================] - 1s 8ms/step - loss: 0.4129 - accuracy: 0.8820\n",
      "Epoch 42/100\n",
      "86/86 [==============================] - 1s 8ms/step - loss: 0.4054 - accuracy: 0.8831\n",
      "Epoch 43/100\n",
      "86/86 [==============================] - 1s 7ms/step - loss: 0.3983 - accuracy: 0.8841\n",
      "Epoch 44/100\n",
      "86/86 [==============================] - 1s 7ms/step - loss: 0.3916 - accuracy: 0.8854\n",
      "Epoch 45/100\n",
      "86/86 [==============================] - 1s 7ms/step - loss: 0.3853 - accuracy: 0.8863\n",
      "Epoch 46/100\n",
      "86/86 [==============================] - 1s 8ms/step - loss: 0.3794 - accuracy: 0.8869\n",
      "Epoch 47/100\n",
      "86/86 [==============================] - 1s 7ms/step - loss: 0.3738 - accuracy: 0.8874\n",
      "Epoch 48/100\n",
      "86/86 [==============================] - 1s 7ms/step - loss: 0.3685 - accuracy: 0.8880\n",
      "Epoch 49/100\n",
      "86/86 [==============================] - 1s 7ms/step - loss: 0.3635 - accuracy: 0.8886\n",
      "Epoch 50/100\n",
      "86/86 [==============================] - 1s 7ms/step - loss: 0.3587 - accuracy: 0.8888\n",
      "Epoch 51/100\n",
      "86/86 [==============================] - 1s 8ms/step - loss: 0.3542 - accuracy: 0.8892\n",
      "Epoch 52/100\n",
      "86/86 [==============================] - 1s 7ms/step - loss: 0.3499 - accuracy: 0.8896\n",
      "Epoch 53/100\n",
      "86/86 [==============================] - 1s 7ms/step - loss: 0.3459 - accuracy: 0.8902\n",
      "Epoch 54/100\n",
      "86/86 [==============================] - 1s 8ms/step - loss: 0.3420 - accuracy: 0.8905\n",
      "Epoch 55/100\n",
      "86/86 [==============================] - 1s 7ms/step - loss: 0.3384 - accuracy: 0.8909\n",
      "Epoch 56/100\n",
      "86/86 [==============================] - 1s 8ms/step - loss: 0.3349 - accuracy: 0.8913\n",
      "Epoch 57/100\n",
      "86/86 [==============================] - 1s 8ms/step - loss: 0.3316 - accuracy: 0.8918\n",
      "Epoch 58/100\n",
      "86/86 [==============================] - 1s 7ms/step - loss: 0.3284 - accuracy: 0.8920\n",
      "Epoch 59/100\n",
      "86/86 [==============================] - 1s 7ms/step - loss: 0.3255 - accuracy: 0.8920\n",
      "Epoch 60/100\n",
      "86/86 [==============================] - 1s 7ms/step - loss: 0.3226 - accuracy: 0.8922\n",
      "Epoch 61/100\n",
      "86/86 [==============================] - 1s 8ms/step - loss: 0.3199 - accuracy: 0.8921\n",
      "Epoch 62/100\n",
      "86/86 [==============================] - 1s 8ms/step - loss: 0.3173 - accuracy: 0.8923\n",
      "Epoch 63/100\n",
      "86/86 [==============================] - 1s 7ms/step - loss: 0.3148 - accuracy: 0.8925\n",
      "Epoch 64/100\n",
      "86/86 [==============================] - 1s 7ms/step - loss: 0.3124 - accuracy: 0.8926\n",
      "Epoch 65/100\n",
      "86/86 [==============================] - 1s 8ms/step - loss: 0.3102 - accuracy: 0.8928\n",
      "Epoch 66/100\n",
      "86/86 [==============================] - 1s 7ms/step - loss: 0.3080 - accuracy: 0.8929\n",
      "Epoch 67/100\n",
      "86/86 [==============================] - 1s 7ms/step - loss: 0.3059 - accuracy: 0.8932\n",
      "Epoch 68/100\n",
      "86/86 [==============================] - 1s 8ms/step - loss: 0.3039 - accuracy: 0.8933\n",
      "Epoch 69/100\n",
      "86/86 [==============================] - 1s 7ms/step - loss: 0.3020 - accuracy: 0.8934\n",
      "Epoch 70/100\n",
      "86/86 [==============================] - 1s 7ms/step - loss: 0.3002 - accuracy: 0.8934\n",
      "Epoch 71/100\n",
      "86/86 [==============================] - 1s 7ms/step - loss: 0.2985 - accuracy: 0.8933\n",
      "Epoch 72/100\n",
      "86/86 [==============================] - 1s 7ms/step - loss: 0.2968 - accuracy: 0.8931\n",
      "Epoch 73/100\n",
      "86/86 [==============================] - 1s 8ms/step - loss: 0.2952 - accuracy: 0.8932\n",
      "Epoch 74/100\n",
      "86/86 [==============================] - 1s 7ms/step - loss: 0.2937 - accuracy: 0.8932\n",
      "Epoch 75/100\n",
      "86/86 [==============================] - 1s 7ms/step - loss: 0.2922 - accuracy: 0.8934\n",
      "Epoch 76/100\n",
      "86/86 [==============================] - 1s 7ms/step - loss: 0.2908 - accuracy: 0.8932\n",
      "Epoch 77/100\n",
      "86/86 [==============================] - 1s 8ms/step - loss: 0.2895 - accuracy: 0.8932\n",
      "Epoch 78/100\n",
      "86/86 [==============================] - 1s 8ms/step - loss: 0.2882 - accuracy: 0.8933\n",
      "Epoch 79/100\n",
      "86/86 [==============================] - 1s 7ms/step - loss: 0.2869 - accuracy: 0.8933\n",
      "Epoch 80/100\n",
      "86/86 [==============================] - 1s 7ms/step - loss: 0.2857 - accuracy: 0.8932\n",
      "Epoch 81/100\n",
      "86/86 [==============================] - 1s 7ms/step - loss: 0.2845 - accuracy: 0.8932\n",
      "Epoch 82/100\n",
      "86/86 [==============================] - 1s 7ms/step - loss: 0.2834 - accuracy: 0.8933\n",
      "Epoch 83/100\n",
      "86/86 [==============================] - 1s 7ms/step - loss: 0.2824 - accuracy: 0.8931\n",
      "Epoch 84/100\n",
      "86/86 [==============================] - 1s 8ms/step - loss: 0.2813 - accuracy: 0.8932\n",
      "Epoch 85/100\n",
      "86/86 [==============================] - 1s 8ms/step - loss: 0.2803 - accuracy: 0.8932\n",
      "Epoch 86/100\n",
      "86/86 [==============================] - 1s 7ms/step - loss: 0.2794 - accuracy: 0.8930\n",
      "Epoch 87/100\n",
      "86/86 [==============================] - 1s 8ms/step - loss: 0.2785 - accuracy: 0.8928\n",
      "Epoch 88/100\n",
      "86/86 [==============================] - 1s 7ms/step - loss: 0.2776 - accuracy: 0.8929\n",
      "Epoch 89/100\n",
      "86/86 [==============================] - 1s 8ms/step - loss: 0.2767 - accuracy: 0.8929\n",
      "Epoch 90/100\n",
      "86/86 [==============================] - 1s 7ms/step - loss: 0.2759 - accuracy: 0.8927\n",
      "Epoch 91/100\n",
      "86/86 [==============================] - 1s 7ms/step - loss: 0.2751 - accuracy: 0.8927\n",
      "Epoch 92/100\n",
      "86/86 [==============================] - 1s 8ms/step - loss: 0.2743 - accuracy: 0.8927\n",
      "Epoch 93/100\n",
      "86/86 [==============================] - 1s 7ms/step - loss: 0.2736 - accuracy: 0.8927\n",
      "Epoch 94/100\n",
      "86/86 [==============================] - 1s 7ms/step - loss: 0.2728 - accuracy: 0.8926\n",
      "Epoch 95/100\n",
      "86/86 [==============================] - 1s 7ms/step - loss: 0.2721 - accuracy: 0.8927\n",
      "Epoch 96/100\n",
      "86/86 [==============================] - 1s 7ms/step - loss: 0.2715 - accuracy: 0.8926\n",
      "Epoch 97/100\n",
      "86/86 [==============================] - 1s 8ms/step - loss: 0.2708 - accuracy: 0.8926\n",
      "Epoch 98/100\n",
      "86/86 [==============================] - 1s 8ms/step - loss: 0.2702 - accuracy: 0.8926\n",
      "Epoch 99/100\n",
      "86/86 [==============================] - 1s 7ms/step - loss: 0.2696 - accuracy: 0.8925\n",
      "Epoch 100/100\n",
      "86/86 [==============================] - 1s 8ms/step - loss: 0.2690 - accuracy: 0.8925\n",
      "Model: \"word2_vec_10\"\n",
      "_________________________________________________________________\n",
      "Layer (type)                 Output Shape              Param #   \n",
      "=================================================================\n",
      "w2v_embedding (Embedding)    multiple                  524288    \n",
      "_________________________________________________________________\n",
      "embedding_10 (Embedding)     multiple                  524288    \n",
      "_________________________________________________________________\n",
      "dot_10 (Dot)                 multiple                  0         \n",
      "_________________________________________________________________\n",
      "flatten_10 (Flatten)         multiple                  0         \n",
      "=================================================================\n",
      "Total params: 1,048,576\n",
      "Trainable params: 1,048,576\n",
      "Non-trainable params: 0\n",
      "_________________________________________________________________\n",
      "None\n"
     ]
    }
   ],
   "source": [
    "word2vec.fit(dataset, epochs=100, callbacks=[tensorboard_callback])\n",
    "print(word2vec.summary())\n"
   ]
  },
  {
   "cell_type": "code",
   "execution_count": 87,
   "metadata": {},
   "outputs": [
    {
     "output_type": "display_data",
     "data": {
      "text/plain": "Reusing TensorBoard on port 6006 (pid 952), started 2:39:14 ago. (Use '!kill 952' to kill it.)"
     },
     "metadata": {}
    }
   ],
   "source": [
    "%tensorboard --logdir logs\n"
   ]
  },
  {
   "cell_type": "code",
   "execution_count": 88,
   "metadata": {},
   "outputs": [],
   "source": [
    "weights = word2vec.get_layer('w2v_embedding').get_weights()[0]\n",
    "vocab = vectorize_layer.get_vocabulary()"
   ]
  },
  {
   "cell_type": "code",
   "execution_count": 89,
   "metadata": {},
   "outputs": [],
   "source": [
    "out_v = io.open('vectors.tsv', 'w', encoding='utf-8')\n",
    "out_m = io.open('metadata.tsv', 'w', encoding='utf-8')\n",
    "\n",
    "for index, word in enumerate(vocab):\n",
    "  if index == 0:\n",
    "    continue  # skip 0, it's padding.\n",
    "  vec = weights[index]\n",
    "  out_v.write('\\t'.join([str(x) for x in vec]) + \"\\n\")\n",
    "  out_m.write(word + \"\\n\")\n",
    "out_v.close()\n",
    "out_m.close()"
   ]
  },
  {
   "cell_type": "code",
   "execution_count": null,
   "metadata": {},
   "outputs": [],
   "source": []
  }
 ]
}